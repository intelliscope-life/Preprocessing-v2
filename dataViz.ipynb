{
 "cells": [
  {
   "cell_type": "code",
   "execution_count": 23,
   "metadata": {},
   "outputs": [],
   "source": [
    "import wfdb\n",
    "from wfdb import processing\n",
    "import os\n",
    "import matplotlib.pyplot as plt\n",
    "import wfdb_custom\n",
    "import numpy as np\n",
    "\n",
    "\n",
    "### Set Dataset Path\n",
    "dataset_path = \"/home/ec2-user/SageMaker/physionet.org/files/challenge-2016/1.0.0\" \n",
    "folder = '/training-a/'\n",
    "files = os.listdir(dataset_path + folder)"
   ]
  },
  {
   "cell_type": "code",
   "execution_count": 24,
   "metadata": {},
   "outputs": [],
   "source": [
    "#extract .wav file names only (folder has .hea , .dat as well)\n",
    "wav_files  = sorted([file for file in files if '.wav' in file])"
   ]
  },
  {
   "cell_type": "code",
   "execution_count": 55,
   "metadata": {},
   "outputs": [],
   "source": [
    "def metadata(x):\n",
    "    '''\n",
    "        Accepts: a file id, x\n",
    "        Returns: Prints parameters about a specific record\n",
    "                 Plots the locally detected peaks\n",
    "    \n",
    "    '''\n",
    "    \n",
    "    rec = wav_files[x][:-4]\n",
    "\n",
    "    record = wfdb.rdrecord(dataset_path + folder+rec) \n",
    "    \n",
    "    print(record.sig_name)\n",
    "    print(record.comments)\n",
    "    print(record.record_name)\n",
    "    print(record.fs)\n",
    "    \n",
    "    a = record.p_signal[:,0]\n",
    "    \n",
    "    \n",
    "    pcg_p = wfdb.processing.find_local_peaks(record.p_signal[:,0],1000) \n",
    "    ecg_p = wfdb.processing.find_local_peaks(record.p_signal[:,1],1000) \n",
    "    peaks = [pcg_p , ecg_p]\n",
    "    \n",
    "    wfdb_custom.plot_wfdb(100,14000,peaks,record=record, title='Record ' + rec + ' from PhysioNet Challenge 2016' + ' => ' + record.__dict__['comments'][0],figsize=(20,10), time_units = 'samples',ecg_grids=[1]) \n",
    "    \n",
    "    \n",
    "    plt.plot(a)"
   ]
  },
  {
   "cell_type": "code",
   "execution_count": null,
   "metadata": {},
   "outputs": [
    {
     "name": "stdout",
     "output_type": "stream",
     "text": [
      "['PCG', 'ECG']\n",
      "['Abnormal']\n",
      "a0001\n",
      "2000\n"
     ]
    }
   ],
   "source": [
    "metadata(0)"
   ]
  },
  {
   "cell_type": "code",
   "execution_count": null,
   "metadata": {},
   "outputs": [],
   "source": []
  }
 ],
 "metadata": {
  "kernelspec": {
   "display_name": "conda_pytorch_latest_p36",
   "language": "python",
   "name": "conda_pytorch_latest_p36"
  },
  "language_info": {
   "codemirror_mode": {
    "name": "ipython",
    "version": 3
   },
   "file_extension": ".py",
   "mimetype": "text/x-python",
   "name": "python",
   "nbconvert_exporter": "python",
   "pygments_lexer": "ipython3",
   "version": "3.6.10"
  }
 },
 "nbformat": 4,
 "nbformat_minor": 4
}
