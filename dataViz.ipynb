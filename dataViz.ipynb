{
 "cells": [
  {
   "cell_type": "code",
   "execution_count": 1,
   "metadata": {},
   "outputs": [
    {
     "name": "stdout",
     "output_type": "stream",
     "text": [
      "\u001b[33mWARNING: You are using pip version 20.0.2; however, version 20.2.4 is available.\n",
      "You should consider upgrading via the '/home/ec2-user/anaconda3/envs/tensorflow_p36/bin/python -m pip install --upgrade pip' command.\u001b[0m\n",
      "\u001b[33mWARNING: You are using pip version 20.0.2; however, version 20.2.4 is available.\n",
      "You should consider upgrading via the '/home/ec2-user/anaconda3/envs/tensorflow_p36/bin/python -m pip install --upgrade pip' command.\u001b[0m\n"
     ]
    }
   ],
   "source": [
    "!pip install wfdb -q\n",
    "!pip install scaleogram -q"
   ]
  },
  {
   "cell_type": "code",
   "execution_count": 1,
   "metadata": {},
   "outputs": [],
   "source": [
    "import wfdb\n",
    "from wfdb import processing\n",
    "import os\n",
    "import matplotlib.pyplot as plt\n",
    "import wfdb_custom\n",
    "import numpy as np\n",
    "import matplotlib.pyplot as plt\n",
    "import pandas as pd\n",
    "import scipy\n",
    "from scipy import io\n",
    "import scaleogram as scg"
   ]
  },
  {
   "cell_type": "code",
   "execution_count": 2,
   "metadata": {},
   "outputs": [],
   "source": [
    "### Set Dataset Path\n",
    "dataset_paths = [ \"/home/ec2-user/SageMaker/physionet.org/files/challenge-2016/1.0.0/training-a/\" , \"/home/ec2-user/SageMaker/datasets/Physionet2016_a/DenoisedEMD2016/\",\"/home/ec2-user/SageMaker/datasets/Physionet2016_a/DenoisedEMD_ECG2016/\"]\n",
    "files        = [ os.listdir(dataset_paths[0]), os.listdir(dataset_paths[1]), os.listdir(dataset_paths[2])]"
   ]
  },
  {
   "cell_type": "code",
   "execution_count": null,
   "metadata": {},
   "outputs": [],
   "source": []
  },
  {
   "cell_type": "code",
   "execution_count": 3,
   "metadata": {},
   "outputs": [],
   "source": [
    "#extract .wav file names only (folder has .hea , .dat as well)\n",
    "wav_files  = sorted([file for file in files[0] if '.wav' in file])\n",
    "pcgmat_files  = sorted([file for file in files[1] if '.mat' in file])\n",
    "ecgmat_files  = sorted([file for file in files[2] if '.mat' in file])"
   ]
  },
  {
   "cell_type": "code",
   "execution_count": 4,
   "metadata": {},
   "outputs": [],
   "source": [
    "def pcgmat2np(x):\n",
    "    data = scipy.io.loadmat(dataset_paths[1] + pcgmat_files[x])  # eg: 'D_A00001.mat'\n",
    "    wave = data['y'] # numpy array\n",
    "    wave = wave.reshape(wave.shape[0])\n",
    "    return wave"
   ]
  },
  {
   "cell_type": "code",
   "execution_count": 5,
   "metadata": {},
   "outputs": [],
   "source": [
    "def ecgmat2np(x):\n",
    "    data = scipy.io.loadmat(dataset_paths[2] + ecgmat_files[x])  # eg: 'D_A00001.mat'\n",
    "    wave = data['y'] # numpy array\n",
    "    wave = wave.reshape(wave.shape[0])\n",
    "    return wave"
   ]
  },
  {
   "cell_type": "code",
   "execution_count": null,
   "metadata": {},
   "outputs": [],
   "source": []
  },
  {
   "cell_type": "code",
   "execution_count": null,
   "metadata": {},
   "outputs": [],
   "source": []
  },
  {
   "cell_type": "code",
   "execution_count": 6,
   "metadata": {},
   "outputs": [],
   "source": [
    "def plot_wavelet(a,ecg=False,save_path=None):\n",
    "    \n",
    "    \n",
    "    scales = 0\n",
    "    if(ecg):\n",
    "        scales = np.arange(20, 500)\n",
    "        yscaletype = 'log'\n",
    "        scg.set_default_wavelet('cmor1.5-1.0')\n",
    "    else:\n",
    "        scales = np.arange(7, 130)\n",
    "        yscaletype = 'log'\n",
    "        scg.set_default_wavelet('morl')\n",
    "\n",
    "    fs = 2000\n",
    "    xcg = a\n",
    "    t = np.array(range(len(xcg)-1))/fs\n",
    "    cwt = scg.CWT(t, xcg,scales)\n",
    "    fig = scg.cws(cwt, figsize=(9,5),yaxis='frequency',yscale = yscaletype,cscale='linear',xlabel=\"Time (s)\",coi=False)\n",
    "    \n",
    "    if(save_path!=None):\n",
    "        plt.savefig(save_path)\n",
    "    #plt.show()\n",
    "    plt.clf()\n",
    "    "
   ]
  },
  {
   "cell_type": "code",
   "execution_count": 7,
   "metadata": {},
   "outputs": [],
   "source": [
    "export_paths = [\"/home/ec2-user/SageMaker/datasets/Physionet2016_a/new_split_basedon_rawpcg/raw/\",\n",
    "                \"/home/ec2-user/SageMaker/datasets/Physionet2016_a/new_split_basedon_rawpcg/denoised/\"]"
   ]
  },
  {
   "cell_type": "code",
   "execution_count": 11,
   "metadata": {},
   "outputs": [],
   "source": [
    "def metadata(x,s=100,e=14000):\n",
    "    '''\n",
    "        Accepts: a file id, x\n",
    "        Returns: Prints parameters about a specific record\n",
    "                 Plots the locally detected peaks\n",
    "    \n",
    "    '''\n",
    "    \n",
    "    rec = wav_files[x][:-4]\n",
    "  \n",
    "    #rec = pcgmat_files[x][2:7]\n",
    "    \n",
    "    record = wfdb.rdrecord(dataset_paths[0] +rec) \n",
    "\n",
    "    #print(record.sig_name)\n",
    "    #print(record.comments)\n",
    "    #print(record.record_name)\n",
    "    #print(record.fs)\n",
    "    \n",
    "    a = record.p_signal[:,0] - np.mean(record.p_signal[:,0]);\n",
    "    b = record.p_signal[:,1] - np.mean(record.p_signal[:,1]);\n",
    "    \n",
    "    \n",
    "    pcg_p = wfdb.processing.find_local_peaks(record.p_signal[:,0],1000) \n",
    "    #ecg_p = wfdb.processing.find_local_peaks(record.p_signal[:,1],1000) \n",
    "    \n",
    "    #peaks = [pcg_p , ecg_p]\n",
    "    #save_path = export_paths[0] + \"pcg/lop.png\"\n",
    "    #wfdb_custom.plot_wfdb(s,e,peaks,record=record, title='Record ' + rec + ' from PhysioNet Challenge 2016' + ' => ' + record.__dict__['comments'][0],figsize=(12,5), time_units = 'samples',ecg_grids=[1]) \n",
    "    \n",
    "    #plot_wavelet(a[s:e])\n",
    "    #plot_wavelet(b[s:e],ecg=True)\n",
    "\n",
    "    \n",
    "    '''\n",
    "    ##Denoised\n",
    "    pcg_wave = pcgmat2np(x)\n",
    "    ecg_wave = ecgmat2np(x)\n",
    "    pcg_wave = pcg_wave - np.mean(pcg_wave)\n",
    "    ecg_wave = ecg_wave - np.mean(ecg_wave)\n",
    "    \n",
    "    \n",
    "    if(len(pcg_wave)==0 or len(ecg_wave)==0):\n",
    "        print(\"==== ERROR ==== \", x)\n",
    "        return\n",
    "    '''\n",
    "    \n",
    "    #pcg_p = wfdb.processing.find_local_peaks(pcg_wave,1000) \n",
    "    #ecg_p = wfdb.processing.find_local_peaks(ecg_wave,1000) \n",
    "    #peaks = [pcg_p , ecg_p] \n",
    "    \n",
    "    #wave = [pcg_wave , ecg_wave]\n",
    "    \n",
    "    \n",
    "    #print(\"Denoised Waves\")\n",
    "    #wfdb_custom.custom_plot_signal(s,e,peaks,wave,figsize=(12,5))\n",
    "    #plot_wavelet(pcg_wave[s:e] )\n",
    "    #plot_wavelet(ecg_wave[s:e],ecg=True)\n",
    "    \n",
    "    \n",
    "    e_p = -1\n",
    "    \n",
    "    \n",
    "    #Scalogram Generation\n",
    "    for i in range(0,len(pcg_p)):\n",
    "\n",
    "        s_p = pcg_p[i]\n",
    "        if(s_p < e_p):\n",
    "            continue\n",
    "        \n",
    "        e_p   = s_p + 7000\n",
    "        #print(s_p,e_p)\n",
    "        \n",
    "        rec = wav_files[x][:-4]\n",
    "        if(record.comments[0]=='Abnormal'):\n",
    "            rec = rec + \"_\" + str(s_p) + '_A.tiff'\n",
    "        else:\n",
    "            rec = rec + \"_\" + str(s_p) + '_N.tiff'\n",
    "         \n",
    "        plot_wavelet(a[s_p:e_p]   ,save_path=export_paths[0] + 'pcg/' + rec )\n",
    "        plot_wavelet(b[s_p:e_p]   ,ecg=True,save_path=export_paths[0] + 'ecg/' + rec )\n",
    "        \n",
    "        #plot_wavelet(pcg_wave[s_p:e_p],save_path=export_paths[1] + 'pcg/' + rec )\n",
    "        #plot_wavelet(ecg_wave[s_p:e_p],ecg=True,save_path=export_paths[1] + 'ecg/' + rec )\n",
    "        \n",
    "   \n",
    "    \n",
    "     "
   ]
  },
  {
   "cell_type": "code",
   "execution_count": 12,
   "metadata": {},
   "outputs": [
    {
     "data": {
      "text/plain": [
       "<Figure size 648x360 with 0 Axes>"
      ]
     },
     "metadata": {},
     "output_type": "display_data"
    },
    {
     "data": {
      "text/plain": [
       "<Figure size 648x360 with 0 Axes>"
      ]
     },
     "metadata": {},
     "output_type": "display_data"
    },
    {
     "data": {
      "text/plain": [
       "<Figure size 648x360 with 0 Axes>"
      ]
     },
     "metadata": {},
     "output_type": "display_data"
    },
    {
     "data": {
      "text/plain": [
       "<Figure size 648x360 with 0 Axes>"
      ]
     },
     "metadata": {},
     "output_type": "display_data"
    },
    {
     "data": {
      "text/plain": [
       "<Figure size 648x360 with 0 Axes>"
      ]
     },
     "metadata": {},
     "output_type": "display_data"
    },
    {
     "data": {
      "text/plain": [
       "<Figure size 648x360 with 0 Axes>"
      ]
     },
     "metadata": {},
     "output_type": "display_data"
    },
    {
     "data": {
      "text/plain": [
       "<Figure size 648x360 with 0 Axes>"
      ]
     },
     "metadata": {},
     "output_type": "display_data"
    },
    {
     "data": {
      "text/plain": [
       "<Figure size 648x360 with 0 Axes>"
      ]
     },
     "metadata": {},
     "output_type": "display_data"
    },
    {
     "data": {
      "text/plain": [
       "<Figure size 648x360 with 0 Axes>"
      ]
     },
     "metadata": {},
     "output_type": "display_data"
    },
    {
     "data": {
      "text/plain": [
       "<Figure size 648x360 with 0 Axes>"
      ]
     },
     "metadata": {},
     "output_type": "display_data"
    },
    {
     "data": {
      "text/plain": [
       "<Figure size 648x360 with 0 Axes>"
      ]
     },
     "metadata": {},
     "output_type": "display_data"
    },
    {
     "data": {
      "text/plain": [
       "<Figure size 648x360 with 0 Axes>"
      ]
     },
     "metadata": {},
     "output_type": "display_data"
    },
    {
     "data": {
      "text/plain": [
       "<Figure size 648x360 with 0 Axes>"
      ]
     },
     "metadata": {},
     "output_type": "display_data"
    },
    {
     "data": {
      "text/plain": [
       "<Figure size 648x360 with 0 Axes>"
      ]
     },
     "metadata": {},
     "output_type": "display_data"
    },
    {
     "data": {
      "text/plain": [
       "<Figure size 648x360 with 0 Axes>"
      ]
     },
     "metadata": {},
     "output_type": "display_data"
    },
    {
     "data": {
      "text/plain": [
       "<Figure size 648x360 with 0 Axes>"
      ]
     },
     "metadata": {},
     "output_type": "display_data"
    },
    {
     "data": {
      "text/plain": [
       "<Figure size 648x360 with 0 Axes>"
      ]
     },
     "metadata": {},
     "output_type": "display_data"
    },
    {
     "data": {
      "text/plain": [
       "<Figure size 648x360 with 0 Axes>"
      ]
     },
     "metadata": {},
     "output_type": "display_data"
    },
    {
     "data": {
      "text/plain": [
       "<Figure size 648x360 with 0 Axes>"
      ]
     },
     "metadata": {},
     "output_type": "display_data"
    },
    {
     "data": {
      "text/plain": [
       "<Figure size 648x360 with 0 Axes>"
      ]
     },
     "metadata": {},
     "output_type": "display_data"
    }
   ],
   "source": [
    "metadata(0)"
   ]
  },
  {
   "cell_type": "code",
   "execution_count": null,
   "metadata": {},
   "outputs": [],
   "source": []
  },
  {
   "cell_type": "code",
   "execution_count": null,
   "metadata": {},
   "outputs": [
    {
     "name": "stdout",
     "output_type": "stream",
     "text": [
      "0\n"
     ]
    },
    {
     "name": "stderr",
     "output_type": "stream",
     "text": [
      "/home/ec2-user/anaconda3/envs/tensorflow_p36/lib/python3.6/site-packages/scaleogram/cws.py:142: RuntimeWarning: More than 20 figures have been opened. Figures created through the pyplot interface (`matplotlib.pyplot.figure`) are retained until explicitly closed and may consume too much memory. (To control this warning, see the rcParam `figure.max_open_warning`).\n",
      "  fig, ax = plt.subplots(figsize=figsize)\n"
     ]
    },
    {
     "name": "stdout",
     "output_type": "stream",
     "text": [
      "1\n",
      "2\n",
      "3\n",
      "4\n",
      "5\n",
      "6\n",
      "7\n",
      "8\n",
      "9\n",
      "22\n",
      "23\n",
      "24\n",
      "25\n",
      "26\n",
      "27\n",
      "28\n",
      "29\n",
      "30\n",
      "31\n",
      "32\n",
      "33\n",
      "34\n",
      "35\n",
      "36\n",
      "37\n",
      "38\n"
     ]
    }
   ],
   "source": [
    "for i in range(0,409):\n",
    "    metadata(i)\n",
    "    print(i)"
   ]
  },
  {
   "cell_type": "code",
   "execution_count": null,
   "metadata": {},
   "outputs": [],
   "source": []
  },
  {
   "cell_type": "code",
   "execution_count": null,
   "metadata": {},
   "outputs": [],
   "source": []
  },
  {
   "cell_type": "code",
   "execution_count": null,
   "metadata": {},
   "outputs": [],
   "source": [
    "#PCG => Morlet \n",
    "\n",
    "#ECG => Cmor1.5-1.0\n",
    "\n",
    "'''\n",
    "    if(ecg):\n",
    "        scales = np.arange(2, 450)\n",
    "        yscaletype = 'log'\n",
    "        scg.set_default_wavelet('cmor1.5-1.0')\n",
    "    else:\n",
    "        scales = np.arange(7, 130)\n",
    "        yscaletype = 'log'\n",
    "        scg.set_default_wavelet('morl')\n",
    "'''\n",
    "\n"
   ]
  },
  {
   "cell_type": "code",
   "execution_count": null,
   "metadata": {},
   "outputs": [],
   "source": []
  },
  {
   "cell_type": "code",
   "execution_count": null,
   "metadata": {},
   "outputs": [],
   "source": []
  },
  {
   "cell_type": "code",
   "execution_count": null,
   "metadata": {},
   "outputs": [],
   "source": []
  },
  {
   "cell_type": "code",
   "execution_count": null,
   "metadata": {},
   "outputs": [],
   "source": []
  },
  {
   "cell_type": "code",
   "execution_count": null,
   "metadata": {},
   "outputs": [],
   "source": []
  },
  {
   "cell_type": "code",
   "execution_count": null,
   "metadata": {},
   "outputs": [],
   "source": []
  },
  {
   "cell_type": "code",
   "execution_count": null,
   "metadata": {},
   "outputs": [],
   "source": [
    "wave = mat2np(26)\n",
    "plt.plot(wave)"
   ]
  },
  {
   "cell_type": "code",
   "execution_count": null,
   "metadata": {},
   "outputs": [],
   "source": []
  },
  {
   "cell_type": "code",
   "execution_count": null,
   "metadata": {},
   "outputs": [],
   "source": []
  },
  {
   "cell_type": "code",
   "execution_count": 14,
   "metadata": {},
   "outputs": [
    {
     "name": "stdout",
     "output_type": "stream",
     "text": [
      "==== ERROR ====  12\n",
      "==== ERROR ====  13\n",
      "==== ERROR ====  17\n",
      "==== ERROR ====  26\n",
      "==== ERROR ====  27\n",
      "==== ERROR ====  43\n",
      "==== ERROR ====  53\n",
      "==== ERROR ====  55\n",
      "==== ERROR ====  66\n",
      "==== ERROR ====  68\n",
      "==== ERROR ====  73\n",
      "==== ERROR ====  88\n",
      "==== ERROR ====  111\n",
      "==== ERROR ====  115\n",
      "==== ERROR ====  134\n",
      "==== ERROR ====  156\n",
      "==== ERROR ====  157\n",
      "==== ERROR ====  160\n",
      "==== ERROR ====  176\n",
      "==== ERROR ====  182\n",
      "==== ERROR ====  201\n",
      "==== ERROR ====  224\n",
      "==== ERROR ====  245\n",
      "==== ERROR ====  256\n",
      "==== ERROR ====  268\n",
      "==== ERROR ====  269\n",
      "==== ERROR ====  271\n",
      "==== ERROR ====  274\n",
      "==== ERROR ====  286\n",
      "==== ERROR ====  290\n",
      "==== ERROR ====  298\n",
      "==== ERROR ====  300\n",
      "==== ERROR ====  306\n",
      "==== ERROR ====  309\n",
      "==== ERROR ====  310\n",
      "==== ERROR ====  315\n",
      "==== ERROR ====  328\n",
      "==== ERROR ====  332\n",
      "==== ERROR ====  339\n",
      "==== ERROR ====  342\n",
      "==== ERROR ====  356\n",
      "==== ERROR ====  361\n",
      "==== ERROR ====  362\n",
      "==== ERROR ====  390\n",
      "==== ERROR ====  395\n"
     ]
    }
   ],
   "source": [
    "count = 0 \n",
    "for x in range(0,len(pcgmat_files)):\n",
    "    pcg_wave = pcgmat2np(x)\n",
    "    ecg_wave = ecgmat2np(x)\n",
    "    pcg_wave = pcg_wave - np.mean(pcg_wave)\n",
    "    ecg_wave = ecg_wave - np.mean(ecg_wave)\n",
    "    \n",
    "    if(len(pcg_wave)==0 or len(ecg_wave)==0):\n",
    "        count = count+1\n",
    "        print(\"==== ERROR ==== \", x)\n",
    "    "
   ]
  },
  {
   "cell_type": "code",
   "execution_count": 15,
   "metadata": {},
   "outputs": [
    {
     "data": {
      "text/plain": [
       "45"
      ]
     },
     "execution_count": 15,
     "metadata": {},
     "output_type": "execute_result"
    }
   ],
   "source": [
    "count"
   ]
  },
  {
   "cell_type": "code",
   "execution_count": null,
   "metadata": {},
   "outputs": [],
   "source": []
  },
  {
   "cell_type": "code",
   "execution_count": null,
   "metadata": {},
   "outputs": [],
   "source": []
  },
  {
   "cell_type": "code",
   "execution_count": null,
   "metadata": {},
   "outputs": [],
   "source": []
  },
  {
   "cell_type": "code",
   "execution_count": null,
   "metadata": {},
   "outputs": [],
   "source": []
  },
  {
   "cell_type": "code",
   "execution_count": null,
   "metadata": {},
   "outputs": [],
   "source": [
    "#!aws s3 cp /home/ec2-user/SageMaker/datasets s3://intelliscope-data/datasets --recursive"
   ]
  },
  {
   "cell_type": "code",
   "execution_count": null,
   "metadata": {},
   "outputs": [],
   "source": []
  }
 ],
 "metadata": {
  "kernelspec": {
   "display_name": "conda_tensorflow_p36",
   "language": "python",
   "name": "conda_tensorflow_p36"
  },
  "language_info": {
   "codemirror_mode": {
    "name": "ipython",
    "version": 3
   },
   "file_extension": ".py",
   "mimetype": "text/x-python",
   "name": "python",
   "nbconvert_exporter": "python",
   "pygments_lexer": "ipython3",
   "version": "3.6.10"
  }
 },
 "nbformat": 4,
 "nbformat_minor": 4
}
