{
 "cells": [
  {
   "cell_type": "code",
   "execution_count": null,
   "metadata": {},
   "outputs": [],
   "source": [
    "#this code is an addition to dataViz"
   ]
  },
  {
   "cell_type": "code",
   "execution_count": 1,
   "metadata": {},
   "outputs": [
    {
     "name": "stderr",
     "output_type": "stream",
     "text": [
      "\n",
      "Bad key \"text.kerning_factor\" on line 4 in\n",
      "/home/ec2-user/anaconda3/envs/tensorflow_p36/lib/python3.6/site-packages/matplotlib/mpl-data/stylelib/_classic_test_patch.mplstyle.\n",
      "You probably need to get an updated matplotlibrc file from\n",
      "https://github.com/matplotlib/matplotlib/blob/v3.1.3/matplotlibrc.template\n",
      "or from the matplotlib source distribution\n"
     ]
    },
    {
     "data": {
      "image/png": "[encoded data removed]",
      "text/plain": [
       "<Figure size 432x288 with 1 Axes>"
      ]
     },
     "metadata": {
      "needs_background": "light"
     },
     "output_type": "display_data"
    }
   ],
   "source": [
    "import numpy as np\n",
    "from scipy.signal import butter, lfilter, freqz\n",
    "import matplotlib.pyplot as plt\n",
    "\n",
    "\n",
    "def butter_lowpass(cutoff, fs, order=5):\n",
    "    nyq = 0.5 * fs\n",
    "    normal_cutoff = cutoff / nyq\n",
    "    b, a = butter(order, normal_cutoff, btype='low', analog=False)\n",
    "    return b, a\n",
    "\n",
    "def butter_lowpass_filter(data, cutoff, fs, order=5):\n",
    "    b, a = butter_lowpass(cutoff, fs, order=order)\n",
    "    y = lfilter(b, a, data)\n",
    "    return y\n",
    "\n",
    "\n",
    "# Filter requirements.\n",
    "order = 6\n",
    "fs = 2000       # sample rate, Hz\n",
    "cutoff = 20  # desired cutoff frequency of the filter, Hz\n",
    "\n",
    "# Get the filter coefficients so we can check its frequency response.\n",
    "b, a = butter_lowpass(cutoff, fs, order)\n",
    "\n",
    "# Plot the frequency response.\n",
    "w, h = freqz(b, a, worN=8000)\n",
    "plt.subplot(2, 1, 1)\n",
    "plt.plot(0.5*fs*w/np.pi, np.abs(h), 'b')\n",
    "plt.plot(cutoff, 0.5*np.sqrt(2), 'ko')\n",
    "plt.axvline(cutoff, color='k')\n",
    "plt.xlim(0, 0.5*fs)\n",
    "plt.title(\"Lowpass Filter Frequency Response\")\n",
    "plt.xlabel('Frequency [Hz]')\n",
    "plt.grid()\n",
    "\n"
   ]
  },
  {
   "cell_type": "code",
   "execution_count": 2,
   "metadata": {},
   "outputs": [],
   "source": [
    "def lowpass(x,ss,ee):\n",
    "    '''\n",
    "        Accepts: a file id, x\n",
    "        Returns: Prints parameters about a specific record\n",
    "                 Plots the locally detected peaks\n",
    "    \n",
    "    '''\n",
    "    \n",
    "    rec = wav_files[x][:-4]\n",
    "\n",
    "    record = wfdb.rdrecord(dataset_path + folder+rec) \n",
    "    \n",
    "    print(record.sig_name)\n",
    "    print(record.comments)\n",
    "    print(record.record_name)\n",
    "    print(record.fs)\n",
    "    \n",
    "    a = record.p_signal[:,0]\n",
    "    \n",
    "    \n",
    "    \n",
    "    pcg = record.p_signal[:,0]\n",
    "    ecg = record.p_signal[:,1]\n",
    "    \n",
    "    \n",
    "    # Filter requirements.\n",
    "    order = 6\n",
    "    fs = 2000       # sample rate, Hz\n",
    "    cutoff = 20  # desired cutoff frequency of the filter, Hz\n",
    "    \n",
    "    filtered_pcg = butter_lowpass_filter(pcg, cutoff, fs, order)\n",
    "    filtered_ecg = butter_lowpass_filter(ecg, cutoff, fs, order)\n",
    "    \n",
    "    plt.figure()\n",
    "    plt.plot(pcg[ss:ee])\n",
    "    plt.plot(filtered_pcg[ss:ee])\n",
    "    \n",
    "    \n",
    "    plt.figure()\n",
    "    plt.plot(ecg[ss:ee])\n",
    "    plt.plot(filtered_ecg[ss:ee])\n",
    "    \n",
    "    #wfdb_custom.plot_wfdb(100,14000,peaks,record=record, title='Record ' + rec + ' from PhysioNet Challenge 2016' + ' => ' + record.__dict__['comments'][0],figsize=(20,10), time_units = 'samples',ecg_grids=[1]) \n",
    "    \n",
    "    \n",
    "    #plt.plot(a)"
   ]
  },
  {
   "cell_type": "code",
   "execution_count": null,
   "metadata": {},
   "outputs": [],
   "source": [
    "lowpass(69,100,9000)"
   ]
  }
 ],
 "metadata": {
  "kernelspec": {
   "display_name": "conda_tensorflow_p36",
   "language": "python",
   "name": "conda_tensorflow_p36"
  },
  "language_info": {
   "codemirror_mode": {
    "name": "ipython",
    "version": 3
   },
   "file_extension": ".py",
   "mimetype": "text/x-python",
   "name": "python",
   "nbconvert_exporter": "python",
   "pygments_lexer": "ipython3",
   "version": "3.6.10"
  }
 },
 "nbformat": 4,
 "nbformat_minor": 4
}
