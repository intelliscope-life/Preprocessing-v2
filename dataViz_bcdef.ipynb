{
 "cells": [
  {
   "cell_type": "code",
   "execution_count": 1,
   "metadata": {},
   "outputs": [
    {
     "name": "stdout",
     "output_type": "stream",
     "text": [
      "\u001b[33mWARNING: You are using pip version 20.0.2; however, version 20.2.4 is available.\n",
      "You should consider upgrading via the '/home/ec2-user/anaconda3/envs/tensorflow_p36/bin/python -m pip install --upgrade pip' command.\u001b[0m\n",
      "\u001b[33mWARNING: You are using pip version 20.0.2; however, version 20.2.4 is available.\n",
      "You should consider upgrading via the '/home/ec2-user/anaconda3/envs/tensorflow_p36/bin/python -m pip install --upgrade pip' command.\u001b[0m\n"
     ]
    }
   ],
   "source": [
    "!pip install wfdb -q\n",
    "!pip install scaleogram -q"
   ]
  },
  {
   "cell_type": "code",
   "execution_count": 1,
   "metadata": {},
   "outputs": [],
   "source": [
    "import wfdb\n",
    "from wfdb import processing\n",
    "import os\n",
    "import matplotlib.pyplot as plt\n",
    "import wfdb_custom\n",
    "import numpy as np\n",
    "import matplotlib.pyplot as plt\n",
    "import pandas as pd\n",
    "import scipy\n",
    "from scipy import io\n",
    "import scaleogram as scg"
   ]
  },
  {
   "cell_type": "code",
   "execution_count": 2,
   "metadata": {},
   "outputs": [],
   "source": [
    "### Set Dataset Path\n",
    "dataset_paths = [ \"/home/ec2-user/SageMaker/physionet.org/files/challenge-2016/1.0.0/training-b/\" , \"/home/ec2-user/SageMaker/datasets/Physionet2016_a/DenoisedEMD2016/\",\"/home/ec2-user/SageMaker/datasets/Physionet2016_a/DenoisedEMD_ECG2016/\"]\n",
    "files        = [ os.listdir(dataset_paths[0]), os.listdir(dataset_paths[1]), os.listdir(dataset_paths[2])]"
   ]
  },
  {
   "cell_type": "code",
   "execution_count": null,
   "metadata": {},
   "outputs": [],
   "source": []
  },
  {
   "cell_type": "code",
   "execution_count": 3,
   "metadata": {},
   "outputs": [],
   "source": [
    "#extract .wav file names only (folder has .hea , .dat as well)\n",
    "wav_files  = sorted([file for file in files[0] if '.wav' in file])\n",
    "pcgmat_files  = sorted([file for file in files[1] if '.mat' in file])\n",
    "ecgmat_files  = sorted([file for file in files[2] if '.mat' in file])"
   ]
  },
  {
   "cell_type": "code",
   "execution_count": 4,
   "metadata": {},
   "outputs": [],
   "source": [
    "def pcgmat2np(x):\n",
    "    data = scipy.io.loadmat(dataset_paths[1] + pcgmat_files[x])  # eg: 'D_A00001.mat'\n",
    "    wave = data['y'] # numpy array\n",
    "    wave = wave.reshape(wave.shape[0])\n",
    "    return wave"
   ]
  },
  {
   "cell_type": "code",
   "execution_count": 5,
   "metadata": {},
   "outputs": [],
   "source": [
    "def ecgmat2np(x):\n",
    "    data = scipy.io.loadmat(dataset_paths[2] + ecgmat_files[x])  # eg: 'D_A00001.mat'\n",
    "    wave = data['y'] # numpy array\n",
    "    wave = wave.reshape(wave.shape[0])\n",
    "    return wave"
   ]
  },
  {
   "cell_type": "code",
   "execution_count": null,
   "metadata": {},
   "outputs": [],
   "source": []
  },
  {
   "cell_type": "code",
   "execution_count": null,
   "metadata": {},
   "outputs": [],
   "source": []
  },
  {
   "cell_type": "code",
   "execution_count": 6,
   "metadata": {},
   "outputs": [],
   "source": [
    "def plot_wavelet(a,ecg=False,save_path=None):\n",
    "    \n",
    "    \n",
    "    scales = 0\n",
    "    if(ecg):\n",
    "        scales = np.arange(20, 500)\n",
    "        yscaletype = 'log'\n",
    "        scg.set_default_wavelet('cmor1.5-1.0')\n",
    "    else:\n",
    "        scales = np.arange(7, 130)\n",
    "        yscaletype = 'log'\n",
    "        scg.set_default_wavelet('morl')\n",
    "\n",
    "    fs = 2000\n",
    "    xcg = a\n",
    "    t = np.array(range(len(xcg)-1))/fs\n",
    "    cwt = scg.CWT(t, xcg,scales)\n",
    "    fig = scg.cws(cwt, figsize=(9,5),yaxis='frequency',yscale = yscaletype,cscale='linear',xlabel=\"Time (s)\",coi=False)\n",
    "    \n",
    "    if(save_path!=None):\n",
    "        plt.savefig(save_path)\n",
    "    #plt.show()\n",
    "    plt.clf()\n",
    "    "
   ]
  },
  {
   "cell_type": "code",
   "execution_count": 7,
   "metadata": {},
   "outputs": [],
   "source": [
    "export_paths = [\"/home/ec2-user/SageMaker/datasets/Physionet2016_abcdef/new_split_basedon_rawpcg/\",\n",
    "                \"/home/ec2-user/SageMaker/datasets/Physionet2016_abcdef/new_split_basedon_rawpcg/denoised/\"]"
   ]
  },
  {
   "cell_type": "code",
   "execution_count": 16,
   "metadata": {},
   "outputs": [],
   "source": [
    "def metadata(x,s=100,e=14000):\n",
    "    '''\n",
    "        Accepts: a file id, x\n",
    "        Returns: Prints parameters about a specific record\n",
    "                 Plots the locally detected peaks\n",
    "    \n",
    "    '''\n",
    "    \n",
    "    rec = wav_files[x][:-4]\n",
    "    \n",
    "    #rec = pcgmat_files[x][2:7]\n",
    "    \n",
    "    record = wfdb.rdrecord(dataset_paths[0] +rec) \n",
    "    #print(dataset_paths[0])\n",
    "    #print(record)\n",
    "    #print(dataset_paths[0])\n",
    "\n",
    "    #print(record.sig_name)\n",
    "    #print(record.comments)\n",
    "    #print(record.record_name)\n",
    "    #print(record.fs)\n",
    "    #print(record)\n",
    "    \n",
    "\n",
    "    a = record.p_signal\n",
    "    a = a[np.logical_not(np.isnan(a))]\n",
    "    a = a - np.mean(a);\n",
    "    a = a.reshape(a.shape[0])\n",
    "    \n",
    "    print(record.p_signal.shape[0],end=\" - \")\n",
    "    print(a.shape[0])\n",
    "    \n",
    "    #b = record.p_signal[:,1] - np.mean(record.p_signal[:,1]);\n",
    "    \n",
    "    #return a,b\n",
    "    pcg_p = wfdb.processing.find_local_peaks(a,1000) \n",
    "    #ecg_p = wfdb.processing.find_local_peaks(record.p_signal[:,1],1000) \n",
    "    #ecg_p = []\n",
    "    #peaks = [pcg_p , ecg_p]\n",
    "    #save_path = export_paths[0] + \"pcg/lop.png\"\n",
    "    #print(a.shape)\n",
    "    #wfdb.plot_wfdb(record=record, title='Record ' + rec + ' from PhysioNet Challenge 2016' + ' => ' + record.__dict__['comments'][0],figsize=(12,5), time_units = 'samples',ecg_grids=[1]) \n",
    "    \n",
    "    #plot_wavelet(a[s:e])\n",
    "    #plot_wavelet(b[s:e],ecg=True)\n",
    "\n",
    "    \n",
    "    '''\n",
    "    ##Denoised\n",
    "    pcg_wave = pcgmat2np(x)\n",
    "    ecg_wave = ecgmat2np(x)\n",
    "    pcg_wave = pcg_wave - np.mean(pcg_wave)\n",
    "    ecg_wave = ecg_wave - np.mean(ecg_wave)\n",
    "    \n",
    "    '''\n",
    "    if(len(a)==0):\n",
    "        print(\"==== ERROR ==== \", x)\n",
    "        return\n",
    "    \n",
    "    \n",
    "    #pcg_p = wfdb.processing.find_local_peaks(pcg_wave,1000) \n",
    "    #ecg_p = wfdb.processing.find_local_peaks(ecg_wave,1000) \n",
    "    #peaks = [pcg_p , ecg_p] \n",
    "    \n",
    "    #wave = [pcg_wave , ecg_wave]\n",
    "    \n",
    "    \n",
    "    #print(\"Denoised Waves\")\n",
    "    #wfdb_custom.custom_plot_signal(s,e,peaks,wave,figsize=(12,5))\n",
    "    #plot_wavelet(pcg_wave[s:e] )\n",
    "    #plot_wavelet(ecg_wave[s:e],ecg=True)\n",
    "    \n",
    "    \n",
    "    e_p = -1\n",
    "    \n",
    "    \n",
    "    #Scalogram Generation\n",
    "    for i in range(0,len(pcg_p)):\n",
    "\n",
    "        s_p = pcg_p[i]\n",
    "        if(s_p < e_p):\n",
    "            continue\n",
    "        \n",
    "        e_p   = s_p + 7000\n",
    "        #print(s_p,e_p)\n",
    "        \n",
    "        rec = wav_files[x][:-4]\n",
    "        if(record.comments[0]=='Abnormal'):\n",
    "            rec = rec + \"_\" + str(s_p) + '_A.tiff'\n",
    "        else:\n",
    "            rec = rec + \"_\" + str(s_p) + '_N.tiff'\n",
    "         \n",
    "        plot_wavelet(a[s_p:e_p]   ,save_path=export_paths[0] + 'pcg/' + rec )\n",
    "        #plot_wavelet(b[s_p:e_p]   ,ecg=True,save_path=export_paths[0] + 'ecg/' + rec )\n",
    "        \n",
    "        #plot_wavelet(pcg_wave[s_p:e_p],save_path=export_paths[1] + 'pcg/' + rec )\n",
    "        #plot_wavelet(ecg_wave[s_p:e_p],ecg=True,save_path=export_paths[1] + 'ecg/' + rec )\n",
    "        \n",
    "   \n",
    "    \n",
    "     "
   ]
  },
  {
   "cell_type": "code",
   "execution_count": null,
   "metadata": {},
   "outputs": [],
   "source": []
  },
  {
   "cell_type": "code",
   "execution_count": null,
   "metadata": {},
   "outputs": [],
   "source": []
  },
  {
   "cell_type": "code",
   "execution_count": null,
   "metadata": {},
   "outputs": [],
   "source": []
  },
  {
   "cell_type": "code",
   "execution_count": 24,
   "metadata": {},
   "outputs": [
    {
     "name": "stdout",
     "output_type": "stream",
     "text": [
      "b0486.wav -_-16000 - 15999\n",
      "b0487.wav -_-16000 - 15999\n",
      "b0488.wav -_-16000 - 16000\n",
      "b0489.wav -_-16000 - 15999\n",
      "b0490.wav -_-16000 - 15999\n"
     ]
    },
    {
     "data": {
      "text/plain": [
       "<Figure size 648x360 with 0 Axes>"
      ]
     },
     "metadata": {},
     "output_type": "display_data"
    },
    {
     "data": {
      "text/plain": [
       "<Figure size 648x360 with 0 Axes>"
      ]
     },
     "metadata": {},
     "output_type": "display_data"
    },
    {
     "data": {
      "text/plain": [
       "<Figure size 648x360 with 0 Axes>"
      ]
     },
     "metadata": {},
     "output_type": "display_data"
    },
    {
     "data": {
      "text/plain": [
       "<Figure size 648x360 with 0 Axes>"
      ]
     },
     "metadata": {},
     "output_type": "display_data"
    },
    {
     "data": {
      "text/plain": [
       "<Figure size 648x360 with 0 Axes>"
      ]
     },
     "metadata": {},
     "output_type": "display_data"
    },
    {
     "data": {
      "text/plain": [
       "<Figure size 648x360 with 0 Axes>"
      ]
     },
     "metadata": {},
     "output_type": "display_data"
    },
    {
     "data": {
      "text/plain": [
       "<Figure size 648x360 with 0 Axes>"
      ]
     },
     "metadata": {},
     "output_type": "display_data"
    },
    {
     "data": {
      "text/plain": [
       "<Figure size 648x360 with 0 Axes>"
      ]
     },
     "metadata": {},
     "output_type": "display_data"
    },
    {
     "data": {
      "text/plain": [
       "<Figure size 648x360 with 0 Axes>"
      ]
     },
     "metadata": {},
     "output_type": "display_data"
    },
    {
     "data": {
      "text/plain": [
       "<Figure size 648x360 with 0 Axes>"
      ]
     },
     "metadata": {},
     "output_type": "display_data"
    },
    {
     "data": {
      "text/plain": [
       "<Figure size 648x360 with 0 Axes>"
      ]
     },
     "metadata": {},
     "output_type": "display_data"
    },
    {
     "data": {
      "text/plain": [
       "<Figure size 648x360 with 0 Axes>"
      ]
     },
     "metadata": {},
     "output_type": "display_data"
    }
   ],
   "source": [
    "names = ['b','c','d','e','f']\n",
    "\n",
    "for k in range(0,1):\n",
    "    dataset_paths[0] = \"/home/ec2-user/SageMaker/physionet.org/files/challenge-2016/1.0.0/training-\" + names[k] + \"/\"\n",
    "    files        = [ os.listdir(dataset_paths[0]), os.listdir(dataset_paths[1]), os.listdir(dataset_paths[2])]\n",
    "    wav_files    = sorted([file for file in files[0] if '.wav' in file])\n",
    "    #print(dataset_paths[0])\n",
    "\n",
    "    for i in range(485,len(wav_files)):\n",
    "        print(wav_files[i],end=\" -_-\")\n",
    "        metadata(i)\n",
    "        #summ  = summ + metadata(i)\n"
   ]
  },
  {
   "cell_type": "code",
   "execution_count": null,
   "metadata": {},
   "outputs": [],
   "source": []
  },
  {
   "cell_type": "code",
   "execution_count": null,
   "metadata": {},
   "outputs": [],
   "source": []
  },
  {
   "cell_type": "code",
   "execution_count": null,
   "metadata": {},
   "outputs": [
    {
     "name": "stdout",
     "output_type": "stream",
     "text": [
      "41\n",
      "42\n",
      "43\n",
      "44\n",
      "45\n",
      "46\n",
      "47\n",
      "48\n",
      "49\n",
      "50\n",
      "51\n",
      "52\n",
      "53\n",
      "54\n",
      "55\n",
      "56\n",
      "57\n",
      "58\n",
      "59\n",
      "60\n",
      "61\n",
      "62\n",
      "63\n",
      "64\n",
      "65\n",
      "66\n",
      "67\n",
      "68\n",
      "69\n",
      "70\n",
      "71\n",
      "72\n",
      "73\n",
      "74\n",
      "75\n",
      "76\n",
      "77\n",
      "78\n",
      "79\n",
      "80\n"
     ]
    }
   ],
   "source": [
    "for i in range(41,409):\n",
    "    metadata(i)\n",
    "    print(i)"
   ]
  },
  {
   "cell_type": "code",
   "execution_count": null,
   "metadata": {},
   "outputs": [],
   "source": []
  },
  {
   "cell_type": "code",
   "execution_count": null,
   "metadata": {},
   "outputs": [],
   "source": []
  },
  {
   "cell_type": "code",
   "execution_count": null,
   "metadata": {},
   "outputs": [],
   "source": [
    "#PCG => Morlet \n",
    "\n",
    "#ECG => Cmor1.5-1.0\n",
    "\n",
    "'''\n",
    "    if(ecg):\n",
    "        scales = np.arange(2, 450)\n",
    "        yscaletype = 'log'\n",
    "        scg.set_default_wavelet('cmor1.5-1.0')\n",
    "    else:\n",
    "        scales = np.arange(7, 130)\n",
    "        yscaletype = 'log'\n",
    "        scg.set_default_wavelet('morl')\n",
    "'''\n",
    "\n"
   ]
  },
  {
   "cell_type": "code",
   "execution_count": null,
   "metadata": {},
   "outputs": [],
   "source": []
  },
  {
   "cell_type": "code",
   "execution_count": null,
   "metadata": {},
   "outputs": [],
   "source": []
  },
  {
   "cell_type": "code",
   "execution_count": null,
   "metadata": {},
   "outputs": [],
   "source": []
  },
  {
   "cell_type": "code",
   "execution_count": null,
   "metadata": {},
   "outputs": [],
   "source": []
  },
  {
   "cell_type": "code",
   "execution_count": null,
   "metadata": {},
   "outputs": [],
   "source": []
  },
  {
   "cell_type": "code",
   "execution_count": null,
   "metadata": {},
   "outputs": [],
   "source": []
  },
  {
   "cell_type": "code",
   "execution_count": null,
   "metadata": {},
   "outputs": [],
   "source": [
    "wave = mat2np(26)\n",
    "plt.plot(wave)"
   ]
  },
  {
   "cell_type": "code",
   "execution_count": null,
   "metadata": {},
   "outputs": [],
   "source": []
  },
  {
   "cell_type": "code",
   "execution_count": null,
   "metadata": {},
   "outputs": [],
   "source": []
  },
  {
   "cell_type": "code",
   "execution_count": 14,
   "metadata": {},
   "outputs": [
    {
     "name": "stdout",
     "output_type": "stream",
     "text": [
      "==== ERROR ====  12\n",
      "==== ERROR ====  13\n",
      "==== ERROR ====  17\n",
      "==== ERROR ====  26\n",
      "==== ERROR ====  27\n",
      "==== ERROR ====  43\n",
      "==== ERROR ====  53\n",
      "==== ERROR ====  55\n",
      "==== ERROR ====  66\n",
      "==== ERROR ====  68\n",
      "==== ERROR ====  73\n",
      "==== ERROR ====  88\n",
      "==== ERROR ====  111\n",
      "==== ERROR ====  115\n",
      "==== ERROR ====  134\n",
      "==== ERROR ====  156\n",
      "==== ERROR ====  157\n",
      "==== ERROR ====  160\n",
      "==== ERROR ====  176\n",
      "==== ERROR ====  182\n",
      "==== ERROR ====  201\n",
      "==== ERROR ====  224\n",
      "==== ERROR ====  245\n",
      "==== ERROR ====  256\n",
      "==== ERROR ====  268\n",
      "==== ERROR ====  269\n",
      "==== ERROR ====  271\n",
      "==== ERROR ====  274\n",
      "==== ERROR ====  286\n",
      "==== ERROR ====  290\n",
      "==== ERROR ====  298\n",
      "==== ERROR ====  300\n",
      "==== ERROR ====  306\n",
      "==== ERROR ====  309\n",
      "==== ERROR ====  310\n",
      "==== ERROR ====  315\n",
      "==== ERROR ====  328\n",
      "==== ERROR ====  332\n",
      "==== ERROR ====  339\n",
      "==== ERROR ====  342\n",
      "==== ERROR ====  356\n",
      "==== ERROR ====  361\n",
      "==== ERROR ====  362\n",
      "==== ERROR ====  390\n",
      "==== ERROR ====  395\n"
     ]
    }
   ],
   "source": [
    "count = 0 \n",
    "for x in range(0,len(pcgmat_files)):\n",
    "    pcg_wave = pcgmat2np(x)\n",
    "    ecg_wave = ecgmat2np(x)\n",
    "    pcg_wave = pcg_wave - np.mean(pcg_wave)\n",
    "    ecg_wave = ecg_wave - np.mean(ecg_wave)\n",
    "    \n",
    "    if(len(pcg_wave)==0 or len(ecg_wave)==0):\n",
    "        count = count+1\n",
    "        print(\"==== ERROR ==== \", x)\n",
    "    "
   ]
  },
  {
   "cell_type": "code",
   "execution_count": 15,
   "metadata": {},
   "outputs": [
    {
     "data": {
      "text/plain": [
       "45"
      ]
     },
     "execution_count": 15,
     "metadata": {},
     "output_type": "execute_result"
    }
   ],
   "source": [
    "count"
   ]
  },
  {
   "cell_type": "code",
   "execution_count": null,
   "metadata": {},
   "outputs": [],
   "source": []
  },
  {
   "cell_type": "code",
   "execution_count": null,
   "metadata": {},
   "outputs": [],
   "source": []
  },
  {
   "cell_type": "code",
   "execution_count": null,
   "metadata": {},
   "outputs": [],
   "source": []
  },
  {
   "cell_type": "code",
   "execution_count": null,
   "metadata": {},
   "outputs": [],
   "source": []
  },
  {
   "cell_type": "code",
   "execution_count": null,
   "metadata": {},
   "outputs": [],
   "source": [
    "#!aws s3 cp /home/ec2-user/SageMaker/datasets s3://intelliscope-data/datasets --recursive"
   ]
  },
  {
   "cell_type": "code",
   "execution_count": null,
   "metadata": {},
   "outputs": [],
   "source": []
  }
 ],
 "metadata": {
  "kernelspec": {
   "display_name": "conda_tensorflow_p36",
   "language": "python",
   "name": "conda_tensorflow_p36"
  },
  "language_info": {
   "codemirror_mode": {
    "name": "ipython",
    "version": 3
   },
   "file_extension": ".py",
   "mimetype": "text/x-python",
   "name": "python",
   "nbconvert_exporter": "python",
   "pygments_lexer": "ipython3",
   "version": "3.6.10"
  }
 },
 "nbformat": 4,
 "nbformat_minor": 4
}
